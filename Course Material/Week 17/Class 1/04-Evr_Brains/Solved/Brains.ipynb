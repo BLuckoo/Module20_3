{
 "cells": [
  {
   "cell_type": "code",
   "execution_count": 1,
   "source": [
    "%matplotlib inline\n",
    "import matplotlib.pyplot as plt\n",
    "import numpy as np\n",
    "import pandas as pd"
   ],
   "outputs": [],
   "metadata": {}
  },
  {
   "cell_type": "code",
   "execution_count": 2,
   "source": [
    "%matplotlib inline\n",
    "import matplotlib.pyplot as plt\n",
    "import numpy as np\n",
    "import pandas as pd"
   ],
   "outputs": [],
   "metadata": {}
  },
  {
   "cell_type": "markdown",
   "source": [
    "# Dataset:  brain.csv\n",
    "\n",
    "Source: R.J. Gladstone (1905). \"A Study of the Relations of the Brain to\n",
    "to the Size of the Head\", Biometrika, Vol. 4, pp105-123\n",
    "\n",
    "Description: Brain weight (grams) and head size (cubic cm) for 237\n",
    "adults classified by gender and age group.\n",
    "\n",
    "Variables/Columns\n",
    "GENDER: Gender  /*1=Male, 2=Female*/\n",
    "AGE: Age range  /*1=20-46, 2=46+*/\n",
    "SIZE: Head size (cm^3)  21-24\n",
    "WEIGHT: Brain weight (grams)  29-32\n",
    "\n"
   ],
   "metadata": {}
  },
  {
   "cell_type": "code",
   "execution_count": 3,
   "source": [
    "# Read the CSV file into a Pandas DataFrame\n",
    "\n",
    "brains = pd.read_csv('../Resources/brain.csv')\n",
    "brains.head()"
   ],
   "outputs": [
    {
     "output_type": "execute_result",
     "data": {
      "text/plain": [
       "   gender  age  size  weight\n",
       "0       1    1  4512    1530\n",
       "1       1    1  3738    1297\n",
       "2       1    1  4261    1335\n",
       "3       1    1  3777    1282\n",
       "4       1    1  4177    1590"
      ],
      "text/html": [
       "<div>\n",
       "<style scoped>\n",
       "    .dataframe tbody tr th:only-of-type {\n",
       "        vertical-align: middle;\n",
       "    }\n",
       "\n",
       "    .dataframe tbody tr th {\n",
       "        vertical-align: top;\n",
       "    }\n",
       "\n",
       "    .dataframe thead th {\n",
       "        text-align: right;\n",
       "    }\n",
       "</style>\n",
       "<table border=\"1\" class=\"dataframe\">\n",
       "  <thead>\n",
       "    <tr style=\"text-align: right;\">\n",
       "      <th></th>\n",
       "      <th>gender</th>\n",
       "      <th>age</th>\n",
       "      <th>size</th>\n",
       "      <th>weight</th>\n",
       "    </tr>\n",
       "  </thead>\n",
       "  <tbody>\n",
       "    <tr>\n",
       "      <th>0</th>\n",
       "      <td>1</td>\n",
       "      <td>1</td>\n",
       "      <td>4512</td>\n",
       "      <td>1530</td>\n",
       "    </tr>\n",
       "    <tr>\n",
       "      <th>1</th>\n",
       "      <td>1</td>\n",
       "      <td>1</td>\n",
       "      <td>3738</td>\n",
       "      <td>1297</td>\n",
       "    </tr>\n",
       "    <tr>\n",
       "      <th>2</th>\n",
       "      <td>1</td>\n",
       "      <td>1</td>\n",
       "      <td>4261</td>\n",
       "      <td>1335</td>\n",
       "    </tr>\n",
       "    <tr>\n",
       "      <th>3</th>\n",
       "      <td>1</td>\n",
       "      <td>1</td>\n",
       "      <td>3777</td>\n",
       "      <td>1282</td>\n",
       "    </tr>\n",
       "    <tr>\n",
       "      <th>4</th>\n",
       "      <td>1</td>\n",
       "      <td>1</td>\n",
       "      <td>4177</td>\n",
       "      <td>1590</td>\n",
       "    </tr>\n",
       "  </tbody>\n",
       "</table>\n",
       "</div>"
      ]
     },
     "metadata": {},
     "execution_count": 3
    }
   ],
   "metadata": {}
  },
  {
   "cell_type": "code",
   "execution_count": 4,
   "source": [
    "# Assign the data to X and y\n",
    "# Note: Sklearn requires a two-dimensional array of values\n",
    "# so we use reshape() to create this\n",
    "\n",
    "X = brains[\"weight\"].values.reshape(-1, 1)\n",
    "y = brains[\"size\"].values.reshape(-1, 1)\n",
    "\n",
    "print(\"Shape: \", X.shape, y.shape)"
   ],
   "outputs": [
    {
     "output_type": "stream",
     "name": "stdout",
     "text": [
      "Shape:  (237, 1) (237, 1)\n"
     ]
    }
   ],
   "metadata": {}
  },
  {
   "cell_type": "code",
   "execution_count": 5,
   "source": [
    "# Plot the data to find out if a linear trend exists\n",
    "\n",
    "### BEGIN SOLUTION\n",
    "plt.scatter(X, y)\n",
    "plt.xlabel(\"Brain Weight\")\n",
    "plt.ylabel(\"Head Size\")\n",
    "### END SOLUTION"
   ],
   "outputs": [
    {
     "output_type": "execute_result",
     "data": {
      "text/plain": [
       "Text(0, 0.5, 'Head Size')"
      ]
     },
     "metadata": {},
     "execution_count": 5
    },
    {
     "output_type": "display_data",
     "data": {
      "text/plain": [
       "<Figure size 432x288 with 1 Axes>"
      ],
      "image/svg+xml": "<?xml version=\"1.0\" encoding=\"utf-8\" standalone=\"no\"?>\n<!DOCTYPE svg PUBLIC \"-//W3C//DTD SVG 1.1//EN\"\n  \"http://www.w3.org/Graphics/SVG/1.1/DTD/svg11.dtd\">\n<!-- Created with matplotlib (https://matplotlib.org/) -->\n<svg height=\"262.19625pt\" version=\"1.1\" viewBox=\"0 0 395.328125 262.19625\" width=\"395.328125pt\" xmlns=\"http://www.w3.org/2000/svg\" xmlns:xlink=\"http://www.w3.org/1999/xlink\">\n <metadata>\n  <rdf:RDF xmlns:cc=\"http://creativecommons.org/ns#\" xmlns:dc=\"http://purl.org/dc/elements/1.1/\" xmlns:rdf=\"http://www.w3.org/1999/02/22-rdf-syntax-ns#\">\n   <cc:Work>\n    <dc:type rdf:resource=\"http://purl.org/dc/dcmitype/StillImage\"/>\n    <dc:date>2021-08-09T16:10:18.868118</dc:date>\n    <dc:format>image/svg+xml</dc:format>\n    <dc:creator>\n     <cc:Agent>\n      <dc:title>Matplotlib v3.3.4, https://matplotlib.org/</dc:title>\n     </cc:Agent>\n    </dc:creator>\n   </cc:Work>\n  </rdf:RDF>\n </metadata>\n <defs>\n  <style type=\"text/css\">*{stroke-linecap:butt;stroke-linejoin:round;}</style>\n </defs>\n <g id=\"figure_1\">\n  <g id=\"patch_1\">\n   <path d=\"M 0 262.19625 \nL 395.328125 262.19625 \nL 395.328125 0 \nL 0 0 \nz\n\" style=\"fill:none;\"/>\n  </g>\n  <g id=\"axes_1\">\n   <g id=\"patch_2\">\n    <path d=\"M 53.328125 224.64 \nL 388.128125 224.64 \nL 388.128125 7.2 \nL 53.328125 7.2 \nz\n\" style=\"fill:#ffffff;\"/>\n   </g>\n   <g id=\"PathCollection_1\">\n    <defs>\n     <path d=\"M 0 3 \nC 0.795609 3 1.55874 2.683901 2.12132 2.12132 \nC 2.683901 1.55874 3 0.795609 3 0 \nC 3 -0.795609 2.683901 -1.55874 2.12132 -2.12132 \nC 1.55874 -2.683901 0.795609 -3 0 -3 \nC -0.795609 -3 -1.55874 -2.683901 -2.12132 -2.12132 \nC -2.683901 -1.55874 -3 -0.795609 -3 0 \nC -3 0.795609 -2.683901 1.55874 -2.12132 2.12132 \nC -1.55874 2.683901 -0.795609 3 0 3 \nz\n\" id=\"m7896b9933f\" style=\"stroke:#1f77b4;\"/>\n    </defs>\n    <g clip-path=\"url(#p968d542eca)\">\n     <use style=\"fill:#1f77b4;stroke:#1f77b4;\" x=\"325.912617\" xlink:href=\"#m7896b9933f\" y=\"40.0008\"/>\n     <use style=\"fill:#1f77b4;stroke:#1f77b4;\" x=\"221.623312\" xlink:href=\"#m7896b9933f\" y=\"115.481161\"/>\n     <use style=\"fill:#1f77b4;stroke:#1f77b4;\" x=\"238.631868\" xlink:href=\"#m7896b9933f\" y=\"64.478281\"/>\n     <use style=\"fill:#1f77b4;stroke:#1f77b4;\" x=\"214.909408\" xlink:href=\"#m7896b9933f\" y=\"111.677887\"/>\n     <use style=\"fill:#1f77b4;stroke:#1f77b4;\" x=\"352.768232\" xlink:href=\"#m7896b9933f\" y=\"72.669948\"/>\n     <use style=\"fill:#1f77b4;stroke:#1f77b4;\" x=\"222.966093\" xlink:href=\"#m7896b9933f\" y=\"130.401697\"/>\n     <use style=\"fill:#1f77b4;stroke:#1f77b4;\" x=\"267.725451\" xlink:href=\"#m7896b9933f\" y=\"110.897728\"/>\n     <use style=\"fill:#1f77b4;stroke:#1f77b4;\" x=\"202.824382\" xlink:href=\"#m7896b9933f\" y=\"132.937213\"/>\n     <use style=\"fill:#1f77b4;stroke:#1f77b4;\" x=\"247.58374\" xlink:href=\"#m7896b9933f\" y=\"127.671141\"/>\n     <use style=\"fill:#1f77b4;stroke:#1f77b4;\" x=\"256.535612\" xlink:href=\"#m7896b9933f\" y=\"91.686318\"/>\n     <use style=\"fill:#1f77b4;stroke:#1f77b4;\" x=\"240.869836\" xlink:href=\"#m7896b9933f\" y=\"144.249515\"/>\n     <use style=\"fill:#1f77b4;stroke:#1f77b4;\" x=\"258.77358\" xlink:href=\"#m7896b9933f\" y=\"90.6136\"/>\n     <use style=\"fill:#1f77b4;stroke:#1f77b4;\" x=\"247.58374\" xlink:href=\"#m7896b9933f\" y=\"125.038106\"/>\n     <use style=\"fill:#1f77b4;stroke:#1f77b4;\" x=\"322.331868\" xlink:href=\"#m7896b9933f\" y=\"69.646833\"/>\n     <use style=\"fill:#1f77b4;stroke:#1f77b4;\" x=\"181.787483\" xlink:href=\"#m7896b9933f\" y=\"106.314295\"/>\n     <use style=\"fill:#1f77b4;stroke:#1f77b4;\" x=\"269.963419\" xlink:href=\"#m7896b9933f\" y=\"102.023422\"/>\n     <use style=\"fill:#1f77b4;stroke:#1f77b4;\" x=\"248.926521\" xlink:href=\"#m7896b9933f\" y=\"138.983444\"/>\n     <use style=\"fill:#1f77b4;stroke:#1f77b4;\" x=\"219.385344\" xlink:href=\"#m7896b9933f\" y=\"142.006559\"/>\n     <use style=\"fill:#1f77b4;stroke:#1f77b4;\" x=\"240.869836\" xlink:href=\"#m7896b9933f\" y=\"178.186421\"/>\n     <use style=\"fill:#1f77b4;stroke:#1f77b4;\" x=\"267.725451\" xlink:href=\"#m7896b9933f\" y=\"48.582547\"/>\n     <use style=\"fill:#1f77b4;stroke:#1f77b4;\" x=\"248.478927\" xlink:href=\"#m7896b9933f\" y=\"101.828382\"/>\n     <use style=\"fill:#1f77b4;stroke:#1f77b4;\" x=\"217.147376\" xlink:href=\"#m7896b9933f\" y=\"85.445048\"/>\n     <use style=\"fill:#1f77b4;stroke:#1f77b4;\" x=\"211.776253\" xlink:href=\"#m7896b9933f\" y=\"109.044851\"/>\n     <use style=\"fill:#1f77b4;stroke:#1f77b4;\" x=\"209.538285\" xlink:href=\"#m7896b9933f\" y=\"118.211716\"/>\n     <use style=\"fill:#1f77b4;stroke:#1f77b4;\" x=\"372.909943\" xlink:href=\"#m7896b9933f\" y=\"17.083636\"/>\n     <use style=\"fill:#1f77b4;stroke:#1f77b4;\" x=\"314.722777\" xlink:href=\"#m7896b9933f\" y=\"48.680066\"/>\n     <use style=\"fill:#1f77b4;stroke:#1f77b4;\" x=\"308.008874\" xlink:href=\"#m7896b9933f\" y=\"86.420247\"/>\n     <use style=\"fill:#1f77b4;stroke:#1f77b4;\" x=\"305.770906\" xlink:href=\"#m7896b9933f\" y=\"87.785525\"/>\n     <use style=\"fill:#1f77b4;stroke:#1f77b4;\" x=\"227.442029\" xlink:href=\"#m7896b9933f\" y=\"143.176797\"/>\n     <use style=\"fill:#1f77b4;stroke:#1f77b4;\" x=\"276.677323\" xlink:href=\"#m7896b9933f\" y=\"72.864988\"/>\n     <use style=\"fill:#1f77b4;stroke:#1f77b4;\" x=\"231.022777\" xlink:href=\"#m7896b9933f\" y=\"110.702688\"/>\n     <use style=\"fill:#1f77b4;stroke:#1f77b4;\" x=\"282.048446\" xlink:href=\"#m7896b9933f\" y=\"109.82501\"/>\n     <use style=\"fill:#1f77b4;stroke:#1f77b4;\" x=\"251.612082\" xlink:href=\"#m7896b9933f\" y=\"79.886417\"/>\n     <use style=\"fill:#1f77b4;stroke:#1f77b4;\" x=\"269.963419\" xlink:href=\"#m7896b9933f\" y=\"74.230266\"/>\n     <use style=\"fill:#1f77b4;stroke:#1f77b4;\" x=\"282.048446\" xlink:href=\"#m7896b9933f\" y=\"74.522825\"/>\n     <use style=\"fill:#1f77b4;stroke:#1f77b4;\" x=\"181.33989\" xlink:href=\"#m7896b9933f\" y=\"108.069652\"/>\n     <use style=\"fill:#1f77b4;stroke:#1f77b4;\" x=\"256.535612\" xlink:href=\"#m7896b9933f\" y=\"136.057848\"/>\n     <use style=\"fill:#1f77b4;stroke:#1f77b4;\" x=\"245.345772\" xlink:href=\"#m7896b9933f\" y=\"114.505962\"/>\n     <use style=\"fill:#1f77b4;stroke:#1f77b4;\" x=\"194.320104\" xlink:href=\"#m7896b9933f\" y=\"154.879178\"/>\n     <use style=\"fill:#1f77b4;stroke:#1f77b4;\" x=\"200.586414\" xlink:href=\"#m7896b9933f\" y=\"139.471043\"/>\n     <use style=\"fill:#1f77b4;stroke:#1f77b4;\" x=\"245.345772\" xlink:href=\"#m7896b9933f\" y=\"93.636715\"/>\n     <use style=\"fill:#1f77b4;stroke:#1f77b4;\" x=\"231.917965\" xlink:href=\"#m7896b9933f\" y=\"138.203285\"/>\n     <use style=\"fill:#1f77b4;stroke:#1f77b4;\" x=\"323.674649\" xlink:href=\"#m7896b9933f\" y=\"59.21221\"/>\n     <use style=\"fill:#1f77b4;stroke:#1f77b4;\" x=\"343.81636\" xlink:href=\"#m7896b9933f\" y=\"109.044851\"/>\n     <use style=\"fill:#1f77b4;stroke:#1f77b4;\" x=\"240.869836\" xlink:href=\"#m7896b9933f\" y=\"103.29118\"/>\n     <use style=\"fill:#1f77b4;stroke:#1f77b4;\" x=\"277.57251\" xlink:href=\"#m7896b9933f\" y=\"86.615286\"/>\n     <use style=\"fill:#1f77b4;stroke:#1f77b4;\" x=\"315.170371\" xlink:href=\"#m7896b9933f\" y=\"59.894849\"/>\n     <use style=\"fill:#1f77b4;stroke:#1f77b4;\" x=\"184.920638\" xlink:href=\"#m7896b9933f\" y=\"171.360032\"/>\n     <use style=\"fill:#1f77b4;stroke:#1f77b4;\" x=\"227.889622\" xlink:href=\"#m7896b9933f\" y=\"124.940586\"/>\n     <use style=\"fill:#1f77b4;stroke:#1f77b4;\" x=\"222.966093\" xlink:href=\"#m7896b9933f\" y=\"124.648026\"/>\n     <use style=\"fill:#1f77b4;stroke:#1f77b4;\" x=\"188.948981\" xlink:href=\"#m7896b9933f\" y=\"100.560624\"/>\n     <use style=\"fill:#1f77b4;stroke:#1f77b4;\" x=\"245.345772\" xlink:href=\"#m7896b9933f\" y=\"110.117569\"/>\n     <use style=\"fill:#1f77b4;stroke:#1f77b4;\" x=\"238.631868\" xlink:href=\"#m7896b9933f\" y=\"63.600603\"/>\n     <use style=\"fill:#1f77b4;stroke:#1f77b4;\" x=\"263.249515\" xlink:href=\"#m7896b9933f\" y=\"83.787211\"/>\n     <use style=\"fill:#1f77b4;stroke:#1f77b4;\" x=\"267.725451\" xlink:href=\"#m7896b9933f\" y=\"88.760723\"/>\n     <use style=\"fill:#1f77b4;stroke:#1f77b4;\" x=\"189.396574\" xlink:href=\"#m7896b9933f\" y=\"142.786717\"/>\n     <use style=\"fill:#1f77b4;stroke:#1f77b4;\" x=\"227.442029\" xlink:href=\"#m7896b9933f\" y=\"100.658144\"/>\n     <use style=\"fill:#1f77b4;stroke:#1f77b4;\" x=\"339.340424\" xlink:href=\"#m7896b9933f\" y=\"73.742667\"/>\n     <use style=\"fill:#1f77b4;stroke:#1f77b4;\" x=\"236.3939\" xlink:href=\"#m7896b9933f\" y=\"96.269751\"/>\n     <use style=\"fill:#1f77b4;stroke:#1f77b4;\" x=\"188.053793\" xlink:href=\"#m7896b9933f\" y=\"122.21003\"/>\n     <use style=\"fill:#1f77b4;stroke:#1f77b4;\" x=\"274.439355\" xlink:href=\"#m7896b9933f\" y=\"102.99862\"/>\n     <use style=\"fill:#1f77b4;stroke:#1f77b4;\" x=\"167.016895\" xlink:href=\"#m7896b9933f\" y=\"149.125507\"/>\n     <use style=\"fill:#1f77b4;stroke:#1f77b4;\" x=\"236.3939\" xlink:href=\"#m7896b9933f\" y=\"46.827189\"/>\n     <use style=\"fill:#1f77b4;stroke:#1f77b4;\" x=\"305.770906\" xlink:href=\"#m7896b9933f\" y=\"65.25844\"/>\n     <use style=\"fill:#1f77b4;stroke:#1f77b4;\" x=\"299.057002\" xlink:href=\"#m7896b9933f\" y=\"116.553879\"/>\n     <use style=\"fill:#1f77b4;stroke:#1f77b4;\" x=\"149.113152\" xlink:href=\"#m7896b9933f\" y=\"155.366778\"/>\n     <use style=\"fill:#1f77b4;stroke:#1f77b4;\" x=\"227.442029\" xlink:href=\"#m7896b9933f\" y=\"146.980071\"/>\n     <use style=\"fill:#1f77b4;stroke:#1f77b4;\" x=\"157.61743\" xlink:href=\"#m7896b9933f\" y=\"151.173424\"/>\n     <use style=\"fill:#1f77b4;stroke:#1f77b4;\" x=\"316.960745\" xlink:href=\"#m7896b9933f\" y=\"47.997427\"/>\n     <use style=\"fill:#1f77b4;stroke:#1f77b4;\" x=\"274.439355\" xlink:href=\"#m7896b9933f\" y=\"52.7759\"/>\n     <use style=\"fill:#1f77b4;stroke:#1f77b4;\" x=\"298.161815\" xlink:href=\"#m7896b9933f\" y=\"89.150802\"/>\n     <use style=\"fill:#1f77b4;stroke:#1f77b4;\" x=\"263.249515\" xlink:href=\"#m7896b9933f\" y=\"103.778779\"/>\n     <use style=\"fill:#1f77b4;stroke:#1f77b4;\" x=\"258.77358\" xlink:href=\"#m7896b9933f\" y=\"78.13106\"/>\n     <use style=\"fill:#1f77b4;stroke:#1f77b4;\" x=\"282.048446\" xlink:href=\"#m7896b9933f\" y=\"84.37233\"/>\n     <use style=\"fill:#1f77b4;stroke:#1f77b4;\" x=\"196.110478\" xlink:href=\"#m7896b9933f\" y=\"107.094454\"/>\n     <use style=\"fill:#1f77b4;stroke:#1f77b4;\" x=\"175.968767\" xlink:href=\"#m7896b9933f\" y=\"149.027988\"/>\n     <use style=\"fill:#1f77b4;stroke:#1f77b4;\" x=\"189.396574\" xlink:href=\"#m7896b9933f\" y=\"133.034733\"/>\n     <use style=\"fill:#1f77b4;stroke:#1f77b4;\" x=\"172.835612\" xlink:href=\"#m7896b9933f\" y=\"152.148623\"/>\n     <use style=\"fill:#1f77b4;stroke:#1f77b4;\" x=\"201.481601\" xlink:href=\"#m7896b9933f\" y=\"96.75735\"/>\n     <use style=\"fill:#1f77b4;stroke:#1f77b4;\" x=\"229.679997\" xlink:href=\"#m7896b9933f\" y=\"106.021736\"/>\n     <use style=\"fill:#1f77b4;stroke:#1f77b4;\" x=\"198.348446\" xlink:href=\"#m7896b9933f\" y=\"106.509335\"/>\n     <use style=\"fill:#1f77b4;stroke:#1f77b4;\" x=\"281.153259\" xlink:href=\"#m7896b9933f\" y=\"103.973819\"/>\n     <use style=\"fill:#1f77b4;stroke:#1f77b4;\" x=\"213.566628\" xlink:href=\"#m7896b9933f\" y=\"163.168365\"/>\n     <use style=\"fill:#1f77b4;stroke:#1f77b4;\" x=\"198.348446\" xlink:href=\"#m7896b9933f\" y=\"131.181856\"/>\n     <use style=\"fill:#1f77b4;stroke:#1f77b4;\" x=\"226.994435\" xlink:href=\"#m7896b9933f\" y=\"96.464791\"/>\n     <use style=\"fill:#1f77b4;stroke:#1f77b4;\" x=\"273.096574\" xlink:href=\"#m7896b9933f\" y=\"104.558938\"/>\n     <use style=\"fill:#1f77b4;stroke:#1f77b4;\" x=\"142.399248\" xlink:href=\"#m7896b9933f\" y=\"157.317175\"/>\n     <use style=\"fill:#1f77b4;stroke:#1f77b4;\" x=\"187.158606\" xlink:href=\"#m7896b9933f\" y=\"147.857749\"/>\n     <use style=\"fill:#1f77b4;stroke:#1f77b4;\" x=\"214.014221\" xlink:href=\"#m7896b9933f\" y=\"138.105765\"/>\n     <use style=\"fill:#1f77b4;stroke:#1f77b4;\" x=\"285.629195\" xlink:href=\"#m7896b9933f\" y=\"99.000307\"/>\n     <use style=\"fill:#1f77b4;stroke:#1f77b4;\" x=\"254.297644\" xlink:href=\"#m7896b9933f\" y=\"74.327786\"/>\n     <use style=\"fill:#1f77b4;stroke:#1f77b4;\" x=\"174.625986\" xlink:href=\"#m7896b9933f\" y=\"156.439496\"/>\n     <use style=\"fill:#1f77b4;stroke:#1f77b4;\" x=\"191.634542\" xlink:href=\"#m7896b9933f\" y=\"122.892669\"/>\n     <use style=\"fill:#1f77b4;stroke:#1f77b4;\" x=\"243.555398\" xlink:href=\"#m7896b9933f\" y=\"99.780466\"/>\n     <use style=\"fill:#1f77b4;stroke:#1f77b4;\" x=\"218.490157\" xlink:href=\"#m7896b9933f\" y=\"119.186915\"/>\n     <use style=\"fill:#1f77b4;stroke:#1f77b4;\" x=\"162.540959\" xlink:href=\"#m7896b9933f\" y=\"111.482847\"/>\n     <use style=\"fill:#1f77b4;stroke:#1f77b4;\" x=\"196.110478\" xlink:href=\"#m7896b9933f\" y=\"141.32392\"/>\n     <use style=\"fill:#1f77b4;stroke:#1f77b4;\" x=\"147.770371\" xlink:href=\"#m7896b9933f\" y=\"139.666082\"/>\n     <use style=\"fill:#1f77b4;stroke:#1f77b4;\" x=\"197.005665\" xlink:href=\"#m7896b9933f\" y=\"123.672828\"/>\n     <use style=\"fill:#1f77b4;stroke:#1f77b4;\" x=\"209.538285\" xlink:href=\"#m7896b9933f\" y=\"140.836321\"/>\n     <use style=\"fill:#1f77b4;stroke:#1f77b4;\" x=\"186.263419\" xlink:href=\"#m7896b9933f\" y=\"139.178483\"/>\n     <use style=\"fill:#1f77b4;stroke:#1f77b4;\" x=\"281.153259\" xlink:href=\"#m7896b9933f\" y=\"106.119256\"/>\n     <use style=\"fill:#1f77b4;stroke:#1f77b4;\" x=\"351.873045\" xlink:href=\"#m7896b9933f\" y=\"102.023422\"/>\n     <use style=\"fill:#1f77b4;stroke:#1f77b4;\" x=\"231.917965\" xlink:href=\"#m7896b9933f\" y=\"122.990189\"/>\n     <use style=\"fill:#1f77b4;stroke:#1f77b4;\" x=\"218.490157\" xlink:href=\"#m7896b9933f\" y=\"127.183542\"/>\n     <use style=\"fill:#1f77b4;stroke:#1f77b4;\" x=\"205.06235\" xlink:href=\"#m7896b9933f\" y=\"124.257947\"/>\n     <use style=\"fill:#1f77b4;stroke:#1f77b4;\" x=\"278.915291\" xlink:href=\"#m7896b9933f\" y=\"86.810326\"/>\n     <use style=\"fill:#1f77b4;stroke:#1f77b4;\" x=\"189.844168\" xlink:href=\"#m7896b9933f\" y=\"148.540388\"/>\n     <use style=\"fill:#1f77b4;stroke:#1f77b4;\" x=\"249.821708\" xlink:href=\"#m7896b9933f\" y=\"98.122628\"/>\n     <use style=\"fill:#1f77b4;stroke:#1f77b4;\" x=\"366.196039\" xlink:href=\"#m7896b9933f\" y=\"47.997427\"/>\n     <use style=\"fill:#1f77b4;stroke:#1f77b4;\" x=\"227.442029\" xlink:href=\"#m7896b9933f\" y=\"119.674514\"/>\n     <use style=\"fill:#1f77b4;stroke:#1f77b4;\" x=\"200.586414\" xlink:href=\"#m7896b9933f\" y=\"136.350408\"/>\n     <use style=\"fill:#1f77b4;stroke:#1f77b4;\" x=\"220.728125\" xlink:href=\"#m7896b9933f\" y=\"131.766975\"/>\n     <use style=\"fill:#1f77b4;stroke:#1f77b4;\" x=\"218.490157\" xlink:href=\"#m7896b9933f\" y=\"129.524018\"/>\n     <use style=\"fill:#1f77b4;stroke:#1f77b4;\" x=\"218.490157\" xlink:href=\"#m7896b9933f\" y=\"150.100706\"/>\n     <use style=\"fill:#1f77b4;stroke:#1f77b4;\" x=\"211.776253\" xlink:href=\"#m7896b9933f\" y=\"138.788404\"/>\n     <use style=\"fill:#1f77b4;stroke:#1f77b4;\" x=\"200.586414\" xlink:href=\"#m7896b9933f\" y=\"130.011618\"/>\n     <use style=\"fill:#1f77b4;stroke:#1f77b4;\" x=\"209.538285\" xlink:href=\"#m7896b9933f\" y=\"99.682946\"/>\n     <use style=\"fill:#1f77b4;stroke:#1f77b4;\" x=\"250.716895\" xlink:href=\"#m7896b9933f\" y=\"78.813699\"/>\n     <use style=\"fill:#1f77b4;stroke:#1f77b4;\" x=\"222.966093\" xlink:href=\"#m7896b9933f\" y=\"96.074711\"/>\n     <use style=\"fill:#1f77b4;stroke:#1f77b4;\" x=\"166.121708\" xlink:href=\"#m7896b9933f\" y=\"148.540388\"/>\n     <use style=\"fill:#1f77b4;stroke:#1f77b4;\" x=\"203.271975\" xlink:href=\"#m7896b9933f\" y=\"70.426992\"/>\n     <use style=\"fill:#1f77b4;stroke:#1f77b4;\" x=\"285.629195\" xlink:href=\"#m7896b9933f\" y=\"42.341276\"/>\n     <use style=\"fill:#1f77b4;stroke:#1f77b4;\" x=\"169.254863\" xlink:href=\"#m7896b9933f\" y=\"127.573622\"/>\n     <use style=\"fill:#1f77b4;stroke:#1f77b4;\" x=\"225.651654\" xlink:href=\"#m7896b9933f\" y=\"84.957449\"/>\n     <use style=\"fill:#1f77b4;stroke:#1f77b4;\" x=\"245.345772\" xlink:href=\"#m7896b9933f\" y=\"111.190287\"/>\n     <use style=\"fill:#1f77b4;stroke:#1f77b4;\" x=\"144.637216\" xlink:href=\"#m7896b9933f\" y=\"149.320547\"/>\n     <use style=\"fill:#1f77b4;stroke:#1f77b4;\" x=\"162.540959\" xlink:href=\"#m7896b9933f\" y=\"175.358346\"/>\n     <use style=\"fill:#1f77b4;stroke:#1f77b4;\" x=\"228.337216\" xlink:href=\"#m7896b9933f\" y=\"84.762409\"/>\n     <use style=\"fill:#1f77b4;stroke:#1f77b4;\" x=\"222.966093\" xlink:href=\"#m7896b9933f\" y=\"130.694257\"/>\n     <use style=\"fill:#1f77b4;stroke:#1f77b4;\" x=\"209.538285\" xlink:href=\"#m7896b9933f\" y=\"122.50259\"/>\n     <use style=\"fill:#1f77b4;stroke:#1f77b4;\" x=\"238.631868\" xlink:href=\"#m7896b9933f\" y=\"135.570249\"/>\n     <use style=\"fill:#1f77b4;stroke:#1f77b4;\" x=\"290.10513\" xlink:href=\"#m7896b9933f\" y=\"85.445048\"/>\n     <use style=\"fill:#1f77b4;stroke:#1f77b4;\" x=\"227.442029\" xlink:href=\"#m7896b9933f\" y=\"122.40507\"/>\n     <use style=\"fill:#1f77b4;stroke:#1f77b4;\" x=\"100.773045\" xlink:href=\"#m7896b9933f\" y=\"201.396145\"/>\n     <use style=\"fill:#1f77b4;stroke:#1f77b4;\" x=\"193.87251\" xlink:href=\"#m7896b9933f\" y=\"144.932154\"/>\n     <use style=\"fill:#1f77b4;stroke:#1f77b4;\" x=\"205.06235\" xlink:href=\"#m7896b9933f\" y=\"110.312609\"/>\n     <use style=\"fill:#1f77b4;stroke:#1f77b4;\" x=\"162.540959\" xlink:href=\"#m7896b9933f\" y=\"157.999813\"/>\n     <use style=\"fill:#1f77b4;stroke:#1f77b4;\" x=\"124.495505\" xlink:href=\"#m7896b9933f\" y=\"177.308743\"/>\n     <use style=\"fill:#1f77b4;stroke:#1f77b4;\" x=\"145.532403\" xlink:href=\"#m7896b9933f\" y=\"170.774913\"/>\n     <use style=\"fill:#1f77b4;stroke:#1f77b4;\" x=\"209.538285\" xlink:href=\"#m7896b9933f\" y=\"131.669455\"/>\n     <use style=\"fill:#1f77b4;stroke:#1f77b4;\" x=\"201.481601\" xlink:href=\"#m7896b9933f\" y=\"135.765289\"/>\n     <use style=\"fill:#1f77b4;stroke:#1f77b4;\" x=\"178.206735\" xlink:href=\"#m7896b9933f\" y=\"170.384834\"/>\n     <use style=\"fill:#1f77b4;stroke:#1f77b4;\" x=\"218.490157\" xlink:href=\"#m7896b9933f\" y=\"144.737114\"/>\n     <use style=\"fill:#1f77b4;stroke:#1f77b4;\" x=\"238.184275\" xlink:href=\"#m7896b9933f\" y=\"99.390386\"/>\n     <use style=\"fill:#1f77b4;stroke:#1f77b4;\" x=\"258.77358\" xlink:href=\"#m7896b9933f\" y=\"99.780466\"/>\n     <use style=\"fill:#1f77b4;stroke:#1f77b4;\" x=\"151.35112\" xlink:href=\"#m7896b9933f\" y=\"148.345349\"/>\n     <use style=\"fill:#1f77b4;stroke:#1f77b4;\" x=\"197.453259\" xlink:href=\"#m7896b9933f\" y=\"161.413008\"/>\n     <use style=\"fill:#1f77b4;stroke:#1f77b4;\" x=\"240.869836\" xlink:href=\"#m7896b9933f\" y=\"143.469356\"/>\n     <use style=\"fill:#1f77b4;stroke:#1f77b4;\" x=\"163.88374\" xlink:href=\"#m7896b9933f\" y=\"178.674021\"/>\n     <use style=\"fill:#1f77b4;stroke:#1f77b4;\" x=\"232.813152\" xlink:href=\"#m7896b9933f\" y=\"147.175111\"/>\n     <use style=\"fill:#1f77b4;stroke:#1f77b4;\" x=\"200.13882\" xlink:href=\"#m7896b9933f\" y=\"155.951897\"/>\n     <use style=\"fill:#1f77b4;stroke:#1f77b4;\" x=\"232.365558\" xlink:href=\"#m7896b9933f\" y=\"121.137312\"/>\n     <use style=\"fill:#1f77b4;stroke:#1f77b4;\" x=\"174.625986\" xlink:href=\"#m7896b9933f\" y=\"144.639595\"/>\n     <use style=\"fill:#1f77b4;stroke:#1f77b4;\" x=\"255.640424\" xlink:href=\"#m7896b9933f\" y=\"104.266378\"/>\n     <use style=\"fill:#1f77b4;stroke:#1f77b4;\" x=\"164.778927\" xlink:href=\"#m7896b9933f\" y=\"172.237711\"/>\n     <use style=\"fill:#1f77b4;stroke:#1f77b4;\" x=\"207.300318\" xlink:href=\"#m7896b9933f\" y=\"160.24277\"/>\n     <use style=\"fill:#1f77b4;stroke:#1f77b4;\" x=\"193.87251\" xlink:href=\"#m7896b9933f\" y=\"118.504276\"/>\n     <use style=\"fill:#1f77b4;stroke:#1f77b4;\" x=\"223.86128\" xlink:href=\"#m7896b9933f\" y=\"89.345842\"/>\n     <use style=\"fill:#1f77b4;stroke:#1f77b4;\" x=\"196.558072\" xlink:href=\"#m7896b9933f\" y=\"161.217968\"/>\n     <use style=\"fill:#1f77b4;stroke:#1f77b4;\" x=\"123.600318\" xlink:href=\"#m7896b9933f\" y=\"180.526898\"/>\n     <use style=\"fill:#1f77b4;stroke:#1f77b4;\" x=\"321.436681\" xlink:href=\"#m7896b9933f\" y=\"111.482847\"/>\n     <use style=\"fill:#1f77b4;stroke:#1f77b4;\" x=\"294.581066\" xlink:href=\"#m7896b9933f\" y=\"134.009931\"/>\n     <use style=\"fill:#1f77b4;stroke:#1f77b4;\" x=\"122.257537\" xlink:href=\"#m7896b9933f\" y=\"158.975012\"/>\n     <use style=\"fill:#1f77b4;stroke:#1f77b4;\" x=\"214.014221\" xlink:href=\"#m7896b9933f\" y=\"138.983444\"/>\n     <use style=\"fill:#1f77b4;stroke:#1f77b4;\" x=\"169.254863\" xlink:href=\"#m7896b9933f\" y=\"179.454179\"/>\n     <use style=\"fill:#1f77b4;stroke:#1f77b4;\" x=\"200.586414\" xlink:href=\"#m7896b9933f\" y=\"163.265885\"/>\n     <use style=\"fill:#1f77b4;stroke:#1f77b4;\" x=\"173.730799\" xlink:href=\"#m7896b9933f\" y=\"152.538702\"/>\n     <use style=\"fill:#1f77b4;stroke:#1f77b4;\" x=\"256.088018\" xlink:href=\"#m7896b9933f\" y=\"109.142371\"/>\n     <use style=\"fill:#1f77b4;stroke:#1f77b4;\" x=\"225.651654\" xlink:href=\"#m7896b9933f\" y=\"132.254574\"/>\n     <use style=\"fill:#1f77b4;stroke:#1f77b4;\" x=\"179.101922\" xlink:href=\"#m7896b9933f\" y=\"173.310429\"/>\n     <use style=\"fill:#1f77b4;stroke:#1f77b4;\" x=\"196.110478\" xlink:href=\"#m7896b9933f\" y=\"138.398324\"/>\n     <use style=\"fill:#1f77b4;stroke:#1f77b4;\" x=\"230.12759\" xlink:href=\"#m7896b9933f\" y=\"131.766975\"/>\n     <use style=\"fill:#1f77b4;stroke:#1f77b4;\" x=\"214.014221\" xlink:href=\"#m7896b9933f\" y=\"116.846439\"/>\n     <use style=\"fill:#1f77b4;stroke:#1f77b4;\" x=\"245.345772\" xlink:href=\"#m7896b9933f\" y=\"127.476102\"/>\n     <use style=\"fill:#1f77b4;stroke:#1f77b4;\" x=\"169.254863\" xlink:href=\"#m7896b9933f\" y=\"167.654278\"/>\n     <use style=\"fill:#1f77b4;stroke:#1f77b4;\" x=\"182.68267\" xlink:href=\"#m7896b9933f\" y=\"128.061221\"/>\n     <use style=\"fill:#1f77b4;stroke:#1f77b4;\" x=\"145.532403\" xlink:href=\"#m7896b9933f\" y=\"132.742173\"/>\n     <use style=\"fill:#1f77b4;stroke:#1f77b4;\" x=\"233.708339\" xlink:href=\"#m7896b9933f\" y=\"91.978878\"/>\n     <use style=\"fill:#1f77b4;stroke:#1f77b4;\" x=\"182.68267\" xlink:href=\"#m7896b9933f\" y=\"135.472729\"/>\n     <use style=\"fill:#1f77b4;stroke:#1f77b4;\" x=\"218.490157\" xlink:href=\"#m7896b9933f\" y=\"120.259633\"/>\n     <use style=\"fill:#1f77b4;stroke:#1f77b4;\" x=\"133.447376\" xlink:href=\"#m7896b9933f\" y=\"172.042671\"/>\n     <use style=\"fill:#1f77b4;stroke:#1f77b4;\" x=\"214.014221\" xlink:href=\"#m7896b9933f\" y=\"89.443362\"/>\n     <use style=\"fill:#1f77b4;stroke:#1f77b4;\" x=\"167.016895\" xlink:href=\"#m7896b9933f\" y=\"169.799715\"/>\n     <use style=\"fill:#1f77b4;stroke:#1f77b4;\" x=\"160.302991\" xlink:href=\"#m7896b9933f\" y=\"140.738801\"/>\n     <use style=\"fill:#1f77b4;stroke:#1f77b4;\" x=\"180.444703\" xlink:href=\"#m7896b9933f\" y=\"124.843066\"/>\n     <use style=\"fill:#1f77b4;stroke:#1f77b4;\" x=\"161.645772\" xlink:href=\"#m7896b9933f\" y=\"125.818264\"/>\n     <use style=\"fill:#1f77b4;stroke:#1f77b4;\" x=\"98.535077\" xlink:href=\"#m7896b9933f\" y=\"180.721937\"/>\n     <use style=\"fill:#1f77b4;stroke:#1f77b4;\" x=\"197.453259\" xlink:href=\"#m7896b9933f\" y=\"149.027988\"/>\n     <use style=\"fill:#1f77b4;stroke:#1f77b4;\" x=\"245.345772\" xlink:href=\"#m7896b9933f\" y=\"118.894355\"/>\n     <use style=\"fill:#1f77b4;stroke:#1f77b4;\" x=\"194.767697\" xlink:href=\"#m7896b9933f\" y=\"171.360032\"/>\n     <use style=\"fill:#1f77b4;stroke:#1f77b4;\" x=\"179.997109\" xlink:href=\"#m7896b9933f\" y=\"152.928781\"/>\n     <use style=\"fill:#1f77b4;stroke:#1f77b4;\" x=\"128.971441\" xlink:href=\"#m7896b9933f\" y=\"187.450807\"/>\n     <use style=\"fill:#1f77b4;stroke:#1f77b4;\" x=\"247.58374\" xlink:href=\"#m7896b9933f\" y=\"120.454673\"/>\n     <use style=\"fill:#1f77b4;stroke:#1f77b4;\" x=\"200.586414\" xlink:href=\"#m7896b9933f\" y=\"133.229773\"/>\n     <use style=\"fill:#1f77b4;stroke:#1f77b4;\" x=\"122.70513\" xlink:href=\"#m7896b9933f\" y=\"209.587812\"/>\n     <use style=\"fill:#1f77b4;stroke:#1f77b4;\" x=\"142.399248\" xlink:href=\"#m7896b9933f\" y=\"181.794656\"/>\n     <use style=\"fill:#1f77b4;stroke:#1f77b4;\" x=\"187.158606\" xlink:href=\"#m7896b9933f\" y=\"153.90398\"/>\n     <use style=\"fill:#1f77b4;stroke:#1f77b4;\" x=\"196.110478\" xlink:href=\"#m7896b9933f\" y=\"139.373523\"/>\n     <use style=\"fill:#1f77b4;stroke:#1f77b4;\" x=\"187.158606\" xlink:href=\"#m7896b9933f\" y=\"158.487413\"/>\n     <use style=\"fill:#1f77b4;stroke:#1f77b4;\" x=\"131.209408\" xlink:href=\"#m7896b9933f\" y=\"152.343662\"/>\n     <use style=\"fill:#1f77b4;stroke:#1f77b4;\" x=\"193.87251\" xlink:href=\"#m7896b9933f\" y=\"165.216282\"/>\n     <use style=\"fill:#1f77b4;stroke:#1f77b4;\" x=\"135.685344\" xlink:href=\"#m7896b9933f\" y=\"160.43781\"/>\n     <use style=\"fill:#1f77b4;stroke:#1f77b4;\" x=\"269.963419\" xlink:href=\"#m7896b9933f\" y=\"104.461418\"/>\n     <use style=\"fill:#1f77b4;stroke:#1f77b4;\" x=\"155.827055\" xlink:href=\"#m7896b9933f\" y=\"180.916977\"/>\n     <use style=\"fill:#1f77b4;stroke:#1f77b4;\" x=\"225.204061\" xlink:href=\"#m7896b9933f\" y=\"119.967074\"/>\n     <use style=\"fill:#1f77b4;stroke:#1f77b4;\" x=\"187.158606\" xlink:href=\"#m7896b9933f\" y=\"148.247829\"/>\n     <use style=\"fill:#1f77b4;stroke:#1f77b4;\" x=\"221.175719\" xlink:href=\"#m7896b9933f\" y=\"90.41856\"/>\n     <use style=\"fill:#1f77b4;stroke:#1f77b4;\" x=\"167.016895\" xlink:href=\"#m7896b9933f\" y=\"156.439496\"/>\n     <use style=\"fill:#1f77b4;stroke:#1f77b4;\" x=\"68.546307\" xlink:href=\"#m7896b9933f\" y=\"214.756364\"/>\n     <use style=\"fill:#1f77b4;stroke:#1f77b4;\" x=\"120.019569\" xlink:href=\"#m7896b9933f\" y=\"193.594557\"/>\n     <use style=\"fill:#1f77b4;stroke:#1f77b4;\" x=\"231.917965\" xlink:href=\"#m7896b9933f\" y=\"130.889296\"/>\n     <use style=\"fill:#1f77b4;stroke:#1f77b4;\" x=\"115.543633\" xlink:href=\"#m7896b9933f\" y=\"193.399517\"/>\n     <use style=\"fill:#1f77b4;stroke:#1f77b4;\" x=\"146.875184\" xlink:href=\"#m7896b9933f\" y=\"188.523525\"/>\n     <use style=\"fill:#1f77b4;stroke:#1f77b4;\" x=\"200.586414\" xlink:href=\"#m7896b9933f\" y=\"130.304177\"/>\n     <use style=\"fill:#1f77b4;stroke:#1f77b4;\" x=\"189.396574\" xlink:href=\"#m7896b9933f\" y=\"172.237711\"/>\n     <use style=\"fill:#1f77b4;stroke:#1f77b4;\" x=\"169.254863\" xlink:href=\"#m7896b9933f\" y=\"163.460925\"/>\n     <use style=\"fill:#1f77b4;stroke:#1f77b4;\" x=\"168.359676\" xlink:href=\"#m7896b9933f\" y=\"170.872433\"/>\n     <use style=\"fill:#1f77b4;stroke:#1f77b4;\" x=\"152.246307\" xlink:href=\"#m7896b9933f\" y=\"161.315488\"/>\n     <use style=\"fill:#1f77b4;stroke:#1f77b4;\" x=\"146.875184\" xlink:href=\"#m7896b9933f\" y=\"149.515587\"/>\n     <use style=\"fill:#1f77b4;stroke:#1f77b4;\" x=\"171.492831\" xlink:href=\"#m7896b9933f\" y=\"150.295746\"/>\n     <use style=\"fill:#1f77b4;stroke:#1f77b4;\" x=\"94.059141\" xlink:href=\"#m7896b9933f\" y=\"200.713506\"/>\n     <use style=\"fill:#1f77b4;stroke:#1f77b4;\" x=\"214.014221\" xlink:href=\"#m7896b9933f\" y=\"115.286121\"/>\n     <use style=\"fill:#1f77b4;stroke:#1f77b4;\" x=\"134.790157\" xlink:href=\"#m7896b9933f\" y=\"140.738801\"/>\n     <use style=\"fill:#1f77b4;stroke:#1f77b4;\" x=\"271.3062\" xlink:href=\"#m7896b9933f\" y=\"124.355467\"/>\n     <use style=\"fill:#1f77b4;stroke:#1f77b4;\" x=\"222.966093\" xlink:href=\"#m7896b9933f\" y=\"117.626597\"/>\n     <use style=\"fill:#1f77b4;stroke:#1f77b4;\" x=\"198.796039\" xlink:href=\"#m7896b9933f\" y=\"159.755171\"/>\n     <use style=\"fill:#1f77b4;stroke:#1f77b4;\" x=\"258.77358\" xlink:href=\"#m7896b9933f\" y=\"70.036913\"/>\n     <use style=\"fill:#1f77b4;stroke:#1f77b4;\" x=\"245.345772\" xlink:href=\"#m7896b9933f\" y=\"115.77372\"/>\n     <use style=\"fill:#1f77b4;stroke:#1f77b4;\" x=\"115.543633\" xlink:href=\"#m7896b9933f\" y=\"166.19148\"/>\n     <use style=\"fill:#1f77b4;stroke:#1f77b4;\" x=\"245.345772\" xlink:href=\"#m7896b9933f\" y=\"120.649713\"/>\n     <use style=\"fill:#1f77b4;stroke:#1f77b4;\" x=\"187.158606\" xlink:href=\"#m7896b9933f\" y=\"118.796835\"/>\n     <use style=\"fill:#1f77b4;stroke:#1f77b4;\" x=\"137.923312\" xlink:href=\"#m7896b9933f\" y=\"166.58156\"/>\n     <use style=\"fill:#1f77b4;stroke:#1f77b4;\" x=\"184.920638\" xlink:href=\"#m7896b9933f\" y=\"149.027988\"/>\n     <use style=\"fill:#1f77b4;stroke:#1f77b4;\" x=\"135.237751\" xlink:href=\"#m7896b9933f\" y=\"164.728683\"/>\n     <use style=\"fill:#1f77b4;stroke:#1f77b4;\" x=\"164.778927\" xlink:href=\"#m7896b9933f\" y=\"153.123821\"/>\n     <use style=\"fill:#1f77b4;stroke:#1f77b4;\" x=\"142.399248\" xlink:href=\"#m7896b9933f\" y=\"149.320547\"/>\n    </g>\n   </g>\n   <g id=\"matplotlib.axis_1\">\n    <g id=\"xtick_1\">\n     <g id=\"line2d_1\">\n      <defs>\n       <path d=\"M 0 0 \nL 0 3.5 \n\" id=\"m1a77d7bb07\" style=\"stroke:#000000;stroke-width:0.8;\"/>\n      </defs>\n      <g>\n       <use style=\"stroke:#000000;stroke-width:0.8;\" x=\"88.688018\" xlink:href=\"#m1a77d7bb07\" y=\"224.64\"/>\n      </g>\n     </g>\n     <g id=\"text_1\">\n      <!-- 1000 -->\n      <g transform=\"translate(75.963018 239.238438)scale(0.1 -0.1)\">\n       <defs>\n        <path d=\"M 12.40625 8.296875 \nL 28.515625 8.296875 \nL 28.515625 63.921875 \nL 10.984375 60.40625 \nL 10.984375 69.390625 \nL 28.421875 72.90625 \nL 38.28125 72.90625 \nL 38.28125 8.296875 \nL 54.390625 8.296875 \nL 54.390625 0 \nL 12.40625 0 \nz\n\" id=\"DejaVuSans-49\"/>\n        <path d=\"M 31.78125 66.40625 \nQ 24.171875 66.40625 20.328125 58.90625 \nQ 16.5 51.421875 16.5 36.375 \nQ 16.5 21.390625 20.328125 13.890625 \nQ 24.171875 6.390625 31.78125 6.390625 \nQ 39.453125 6.390625 43.28125 13.890625 \nQ 47.125 21.390625 47.125 36.375 \nQ 47.125 51.421875 43.28125 58.90625 \nQ 39.453125 66.40625 31.78125 66.40625 \nz\nM 31.78125 74.21875 \nQ 44.046875 74.21875 50.515625 64.515625 \nQ 56.984375 54.828125 56.984375 36.375 \nQ 56.984375 17.96875 50.515625 8.265625 \nQ 44.046875 -1.421875 31.78125 -1.421875 \nQ 19.53125 -1.421875 13.0625 8.265625 \nQ 6.59375 17.96875 6.59375 36.375 \nQ 6.59375 54.828125 13.0625 64.515625 \nQ 19.53125 74.21875 31.78125 74.21875 \nz\n\" id=\"DejaVuSans-48\"/>\n       </defs>\n       <use xlink:href=\"#DejaVuSans-49\"/>\n       <use x=\"63.623047\" xlink:href=\"#DejaVuSans-48\"/>\n       <use x=\"127.246094\" xlink:href=\"#DejaVuSans-48\"/>\n       <use x=\"190.869141\" xlink:href=\"#DejaVuSans-48\"/>\n      </g>\n     </g>\n    </g>\n    <g id=\"xtick_2\">\n     <g id=\"line2d_2\">\n      <g>\n       <use style=\"stroke:#000000;stroke-width:0.8;\" x=\"133.447376\" xlink:href=\"#m1a77d7bb07\" y=\"224.64\"/>\n      </g>\n     </g>\n     <g id=\"text_2\">\n      <!-- 1100 -->\n      <g transform=\"translate(120.722376 239.238438)scale(0.1 -0.1)\">\n       <use xlink:href=\"#DejaVuSans-49\"/>\n       <use x=\"63.623047\" xlink:href=\"#DejaVuSans-49\"/>\n       <use x=\"127.246094\" xlink:href=\"#DejaVuSans-48\"/>\n       <use x=\"190.869141\" xlink:href=\"#DejaVuSans-48\"/>\n      </g>\n     </g>\n    </g>\n    <g id=\"xtick_3\">\n     <g id=\"line2d_3\">\n      <g>\n       <use style=\"stroke:#000000;stroke-width:0.8;\" x=\"178.206735\" xlink:href=\"#m1a77d7bb07\" y=\"224.64\"/>\n      </g>\n     </g>\n     <g id=\"text_3\">\n      <!-- 1200 -->\n      <g transform=\"translate(165.481735 239.238438)scale(0.1 -0.1)\">\n       <defs>\n        <path d=\"M 19.1875 8.296875 \nL 53.609375 8.296875 \nL 53.609375 0 \nL 7.328125 0 \nL 7.328125 8.296875 \nQ 12.9375 14.109375 22.625 23.890625 \nQ 32.328125 33.6875 34.8125 36.53125 \nQ 39.546875 41.84375 41.421875 45.53125 \nQ 43.3125 49.21875 43.3125 52.78125 \nQ 43.3125 58.59375 39.234375 62.25 \nQ 35.15625 65.921875 28.609375 65.921875 \nQ 23.96875 65.921875 18.8125 64.3125 \nQ 13.671875 62.703125 7.8125 59.421875 \nL 7.8125 69.390625 \nQ 13.765625 71.78125 18.9375 73 \nQ 24.125 74.21875 28.421875 74.21875 \nQ 39.75 74.21875 46.484375 68.546875 \nQ 53.21875 62.890625 53.21875 53.421875 \nQ 53.21875 48.921875 51.53125 44.890625 \nQ 49.859375 40.875 45.40625 35.40625 \nQ 44.1875 33.984375 37.640625 27.21875 \nQ 31.109375 20.453125 19.1875 8.296875 \nz\n\" id=\"DejaVuSans-50\"/>\n       </defs>\n       <use xlink:href=\"#DejaVuSans-49\"/>\n       <use x=\"63.623047\" xlink:href=\"#DejaVuSans-50\"/>\n       <use x=\"127.246094\" xlink:href=\"#DejaVuSans-48\"/>\n       <use x=\"190.869141\" xlink:href=\"#DejaVuSans-48\"/>\n      </g>\n     </g>\n    </g>\n    <g id=\"xtick_4\">\n     <g id=\"line2d_4\">\n      <g>\n       <use style=\"stroke:#000000;stroke-width:0.8;\" x=\"222.966093\" xlink:href=\"#m1a77d7bb07\" y=\"224.64\"/>\n      </g>\n     </g>\n     <g id=\"text_4\">\n      <!-- 1300 -->\n      <g transform=\"translate(210.241093 239.238438)scale(0.1 -0.1)\">\n       <defs>\n        <path d=\"M 40.578125 39.3125 \nQ 47.65625 37.796875 51.625 33 \nQ 55.609375 28.21875 55.609375 21.1875 \nQ 55.609375 10.40625 48.1875 4.484375 \nQ 40.765625 -1.421875 27.09375 -1.421875 \nQ 22.515625 -1.421875 17.65625 -0.515625 \nQ 12.796875 0.390625 7.625 2.203125 \nL 7.625 11.71875 \nQ 11.71875 9.328125 16.59375 8.109375 \nQ 21.484375 6.890625 26.8125 6.890625 \nQ 36.078125 6.890625 40.9375 10.546875 \nQ 45.796875 14.203125 45.796875 21.1875 \nQ 45.796875 27.640625 41.28125 31.265625 \nQ 36.765625 34.90625 28.71875 34.90625 \nL 20.21875 34.90625 \nL 20.21875 43.015625 \nL 29.109375 43.015625 \nQ 36.375 43.015625 40.234375 45.921875 \nQ 44.09375 48.828125 44.09375 54.296875 \nQ 44.09375 59.90625 40.109375 62.90625 \nQ 36.140625 65.921875 28.71875 65.921875 \nQ 24.65625 65.921875 20.015625 65.03125 \nQ 15.375 64.15625 9.8125 62.3125 \nL 9.8125 71.09375 \nQ 15.4375 72.65625 20.34375 73.4375 \nQ 25.25 74.21875 29.59375 74.21875 \nQ 40.828125 74.21875 47.359375 69.109375 \nQ 53.90625 64.015625 53.90625 55.328125 \nQ 53.90625 49.265625 50.4375 45.09375 \nQ 46.96875 40.921875 40.578125 39.3125 \nz\n\" id=\"DejaVuSans-51\"/>\n       </defs>\n       <use xlink:href=\"#DejaVuSans-49\"/>\n       <use x=\"63.623047\" xlink:href=\"#DejaVuSans-51\"/>\n       <use x=\"127.246094\" xlink:href=\"#DejaVuSans-48\"/>\n       <use x=\"190.869141\" xlink:href=\"#DejaVuSans-48\"/>\n      </g>\n     </g>\n    </g>\n    <g id=\"xtick_5\">\n     <g id=\"line2d_5\">\n      <g>\n       <use style=\"stroke:#000000;stroke-width:0.8;\" x=\"267.725451\" xlink:href=\"#m1a77d7bb07\" y=\"224.64\"/>\n      </g>\n     </g>\n     <g id=\"text_5\">\n      <!-- 1400 -->\n      <g transform=\"translate(255.000451 239.238438)scale(0.1 -0.1)\">\n       <defs>\n        <path d=\"M 37.796875 64.3125 \nL 12.890625 25.390625 \nL 37.796875 25.390625 \nz\nM 35.203125 72.90625 \nL 47.609375 72.90625 \nL 47.609375 25.390625 \nL 58.015625 25.390625 \nL 58.015625 17.1875 \nL 47.609375 17.1875 \nL 47.609375 0 \nL 37.796875 0 \nL 37.796875 17.1875 \nL 4.890625 17.1875 \nL 4.890625 26.703125 \nz\n\" id=\"DejaVuSans-52\"/>\n       </defs>\n       <use xlink:href=\"#DejaVuSans-49\"/>\n       <use x=\"63.623047\" xlink:href=\"#DejaVuSans-52\"/>\n       <use x=\"127.246094\" xlink:href=\"#DejaVuSans-48\"/>\n       <use x=\"190.869141\" xlink:href=\"#DejaVuSans-48\"/>\n      </g>\n     </g>\n    </g>\n    <g id=\"xtick_6\">\n     <g id=\"line2d_6\">\n      <g>\n       <use style=\"stroke:#000000;stroke-width:0.8;\" x=\"312.484809\" xlink:href=\"#m1a77d7bb07\" y=\"224.64\"/>\n      </g>\n     </g>\n     <g id=\"text_6\">\n      <!-- 1500 -->\n      <g transform=\"translate(299.759809 239.238438)scale(0.1 -0.1)\">\n       <defs>\n        <path d=\"M 10.796875 72.90625 \nL 49.515625 72.90625 \nL 49.515625 64.59375 \nL 19.828125 64.59375 \nL 19.828125 46.734375 \nQ 21.96875 47.46875 24.109375 47.828125 \nQ 26.265625 48.1875 28.421875 48.1875 \nQ 40.625 48.1875 47.75 41.5 \nQ 54.890625 34.8125 54.890625 23.390625 \nQ 54.890625 11.625 47.5625 5.09375 \nQ 40.234375 -1.421875 26.90625 -1.421875 \nQ 22.3125 -1.421875 17.546875 -0.640625 \nQ 12.796875 0.140625 7.71875 1.703125 \nL 7.71875 11.625 \nQ 12.109375 9.234375 16.796875 8.0625 \nQ 21.484375 6.890625 26.703125 6.890625 \nQ 35.15625 6.890625 40.078125 11.328125 \nQ 45.015625 15.765625 45.015625 23.390625 \nQ 45.015625 31 40.078125 35.4375 \nQ 35.15625 39.890625 26.703125 39.890625 \nQ 22.75 39.890625 18.8125 39.015625 \nQ 14.890625 38.140625 10.796875 36.28125 \nz\n\" id=\"DejaVuSans-53\"/>\n       </defs>\n       <use xlink:href=\"#DejaVuSans-49\"/>\n       <use x=\"63.623047\" xlink:href=\"#DejaVuSans-53\"/>\n       <use x=\"127.246094\" xlink:href=\"#DejaVuSans-48\"/>\n       <use x=\"190.869141\" xlink:href=\"#DejaVuSans-48\"/>\n      </g>\n     </g>\n    </g>\n    <g id=\"xtick_7\">\n     <g id=\"line2d_7\">\n      <g>\n       <use style=\"stroke:#000000;stroke-width:0.8;\" x=\"357.244168\" xlink:href=\"#m1a77d7bb07\" y=\"224.64\"/>\n      </g>\n     </g>\n     <g id=\"text_7\">\n      <!-- 1600 -->\n      <g transform=\"translate(344.519168 239.238438)scale(0.1 -0.1)\">\n       <defs>\n        <path d=\"M 33.015625 40.375 \nQ 26.375 40.375 22.484375 35.828125 \nQ 18.609375 31.296875 18.609375 23.390625 \nQ 18.609375 15.53125 22.484375 10.953125 \nQ 26.375 6.390625 33.015625 6.390625 \nQ 39.65625 6.390625 43.53125 10.953125 \nQ 47.40625 15.53125 47.40625 23.390625 \nQ 47.40625 31.296875 43.53125 35.828125 \nQ 39.65625 40.375 33.015625 40.375 \nz\nM 52.59375 71.296875 \nL 52.59375 62.3125 \nQ 48.875 64.0625 45.09375 64.984375 \nQ 41.3125 65.921875 37.59375 65.921875 \nQ 27.828125 65.921875 22.671875 59.328125 \nQ 17.53125 52.734375 16.796875 39.40625 \nQ 19.671875 43.65625 24.015625 45.921875 \nQ 28.375 48.1875 33.59375 48.1875 \nQ 44.578125 48.1875 50.953125 41.515625 \nQ 57.328125 34.859375 57.328125 23.390625 \nQ 57.328125 12.15625 50.6875 5.359375 \nQ 44.046875 -1.421875 33.015625 -1.421875 \nQ 20.359375 -1.421875 13.671875 8.265625 \nQ 6.984375 17.96875 6.984375 36.375 \nQ 6.984375 53.65625 15.1875 63.9375 \nQ 23.390625 74.21875 37.203125 74.21875 \nQ 40.921875 74.21875 44.703125 73.484375 \nQ 48.484375 72.75 52.59375 71.296875 \nz\n\" id=\"DejaVuSans-54\"/>\n       </defs>\n       <use xlink:href=\"#DejaVuSans-49\"/>\n       <use x=\"63.623047\" xlink:href=\"#DejaVuSans-54\"/>\n       <use x=\"127.246094\" xlink:href=\"#DejaVuSans-48\"/>\n       <use x=\"190.869141\" xlink:href=\"#DejaVuSans-48\"/>\n      </g>\n     </g>\n    </g>\n    <g id=\"text_8\">\n     <!-- Brain Weight -->\n     <g transform=\"translate(188.6125 252.916563)scale(0.1 -0.1)\">\n      <defs>\n       <path d=\"M 19.671875 34.8125 \nL 19.671875 8.109375 \nL 35.5 8.109375 \nQ 43.453125 8.109375 47.28125 11.40625 \nQ 51.125 14.703125 51.125 21.484375 \nQ 51.125 28.328125 47.28125 31.5625 \nQ 43.453125 34.8125 35.5 34.8125 \nz\nM 19.671875 64.796875 \nL 19.671875 42.828125 \nL 34.28125 42.828125 \nQ 41.5 42.828125 45.03125 45.53125 \nQ 48.578125 48.25 48.578125 53.8125 \nQ 48.578125 59.328125 45.03125 62.0625 \nQ 41.5 64.796875 34.28125 64.796875 \nz\nM 9.8125 72.90625 \nL 35.015625 72.90625 \nQ 46.296875 72.90625 52.390625 68.21875 \nQ 58.5 63.53125 58.5 54.890625 \nQ 58.5 48.1875 55.375 44.234375 \nQ 52.25 40.28125 46.1875 39.3125 \nQ 53.46875 37.75 57.5 32.78125 \nQ 61.53125 27.828125 61.53125 20.40625 \nQ 61.53125 10.640625 54.890625 5.3125 \nQ 48.25 0 35.984375 0 \nL 9.8125 0 \nz\n\" id=\"DejaVuSans-66\"/>\n       <path d=\"M 41.109375 46.296875 \nQ 39.59375 47.171875 37.8125 47.578125 \nQ 36.03125 48 33.890625 48 \nQ 26.265625 48 22.1875 43.046875 \nQ 18.109375 38.09375 18.109375 28.8125 \nL 18.109375 0 \nL 9.078125 0 \nL 9.078125 54.6875 \nL 18.109375 54.6875 \nL 18.109375 46.1875 \nQ 20.953125 51.171875 25.484375 53.578125 \nQ 30.03125 56 36.53125 56 \nQ 37.453125 56 38.578125 55.875 \nQ 39.703125 55.765625 41.0625 55.515625 \nz\n\" id=\"DejaVuSans-114\"/>\n       <path d=\"M 34.28125 27.484375 \nQ 23.390625 27.484375 19.1875 25 \nQ 14.984375 22.515625 14.984375 16.5 \nQ 14.984375 11.71875 18.140625 8.90625 \nQ 21.296875 6.109375 26.703125 6.109375 \nQ 34.1875 6.109375 38.703125 11.40625 \nQ 43.21875 16.703125 43.21875 25.484375 \nL 43.21875 27.484375 \nz\nM 52.203125 31.203125 \nL 52.203125 0 \nL 43.21875 0 \nL 43.21875 8.296875 \nQ 40.140625 3.328125 35.546875 0.953125 \nQ 30.953125 -1.421875 24.3125 -1.421875 \nQ 15.921875 -1.421875 10.953125 3.296875 \nQ 6 8.015625 6 15.921875 \nQ 6 25.140625 12.171875 29.828125 \nQ 18.359375 34.515625 30.609375 34.515625 \nL 43.21875 34.515625 \nL 43.21875 35.40625 \nQ 43.21875 41.609375 39.140625 45 \nQ 35.0625 48.390625 27.6875 48.390625 \nQ 23 48.390625 18.546875 47.265625 \nQ 14.109375 46.140625 10.015625 43.890625 \nL 10.015625 52.203125 \nQ 14.9375 54.109375 19.578125 55.046875 \nQ 24.21875 56 28.609375 56 \nQ 40.484375 56 46.34375 49.84375 \nQ 52.203125 43.703125 52.203125 31.203125 \nz\n\" id=\"DejaVuSans-97\"/>\n       <path d=\"M 9.421875 54.6875 \nL 18.40625 54.6875 \nL 18.40625 0 \nL 9.421875 0 \nz\nM 9.421875 75.984375 \nL 18.40625 75.984375 \nL 18.40625 64.59375 \nL 9.421875 64.59375 \nz\n\" id=\"DejaVuSans-105\"/>\n       <path d=\"M 54.890625 33.015625 \nL 54.890625 0 \nL 45.90625 0 \nL 45.90625 32.71875 \nQ 45.90625 40.484375 42.875 44.328125 \nQ 39.84375 48.1875 33.796875 48.1875 \nQ 26.515625 48.1875 22.3125 43.546875 \nQ 18.109375 38.921875 18.109375 30.90625 \nL 18.109375 0 \nL 9.078125 0 \nL 9.078125 54.6875 \nL 18.109375 54.6875 \nL 18.109375 46.1875 \nQ 21.34375 51.125 25.703125 53.5625 \nQ 30.078125 56 35.796875 56 \nQ 45.21875 56 50.046875 50.171875 \nQ 54.890625 44.34375 54.890625 33.015625 \nz\n\" id=\"DejaVuSans-110\"/>\n       <path id=\"DejaVuSans-32\"/>\n       <path d=\"M 3.328125 72.90625 \nL 13.28125 72.90625 \nL 28.609375 11.28125 \nL 43.890625 72.90625 \nL 54.984375 72.90625 \nL 70.3125 11.28125 \nL 85.59375 72.90625 \nL 95.609375 72.90625 \nL 77.296875 0 \nL 64.890625 0 \nL 49.515625 63.28125 \nL 33.984375 0 \nL 21.578125 0 \nz\n\" id=\"DejaVuSans-87\"/>\n       <path d=\"M 56.203125 29.59375 \nL 56.203125 25.203125 \nL 14.890625 25.203125 \nQ 15.484375 15.921875 20.484375 11.0625 \nQ 25.484375 6.203125 34.421875 6.203125 \nQ 39.59375 6.203125 44.453125 7.46875 \nQ 49.3125 8.734375 54.109375 11.28125 \nL 54.109375 2.78125 \nQ 49.265625 0.734375 44.1875 -0.34375 \nQ 39.109375 -1.421875 33.890625 -1.421875 \nQ 20.796875 -1.421875 13.15625 6.1875 \nQ 5.515625 13.8125 5.515625 26.8125 \nQ 5.515625 40.234375 12.765625 48.109375 \nQ 20.015625 56 32.328125 56 \nQ 43.359375 56 49.78125 48.890625 \nQ 56.203125 41.796875 56.203125 29.59375 \nz\nM 47.21875 32.234375 \nQ 47.125 39.59375 43.09375 43.984375 \nQ 39.0625 48.390625 32.421875 48.390625 \nQ 24.90625 48.390625 20.390625 44.140625 \nQ 15.875 39.890625 15.1875 32.171875 \nz\n\" id=\"DejaVuSans-101\"/>\n       <path d=\"M 45.40625 27.984375 \nQ 45.40625 37.75 41.375 43.109375 \nQ 37.359375 48.484375 30.078125 48.484375 \nQ 22.859375 48.484375 18.828125 43.109375 \nQ 14.796875 37.75 14.796875 27.984375 \nQ 14.796875 18.265625 18.828125 12.890625 \nQ 22.859375 7.515625 30.078125 7.515625 \nQ 37.359375 7.515625 41.375 12.890625 \nQ 45.40625 18.265625 45.40625 27.984375 \nz\nM 54.390625 6.78125 \nQ 54.390625 -7.171875 48.1875 -13.984375 \nQ 42 -20.796875 29.203125 -20.796875 \nQ 24.46875 -20.796875 20.265625 -20.09375 \nQ 16.0625 -19.390625 12.109375 -17.921875 \nL 12.109375 -9.1875 \nQ 16.0625 -11.328125 19.921875 -12.34375 \nQ 23.78125 -13.375 27.78125 -13.375 \nQ 36.625 -13.375 41.015625 -8.765625 \nQ 45.40625 -4.15625 45.40625 5.171875 \nL 45.40625 9.625 \nQ 42.625 4.78125 38.28125 2.390625 \nQ 33.9375 0 27.875 0 \nQ 17.828125 0 11.671875 7.65625 \nQ 5.515625 15.328125 5.515625 27.984375 \nQ 5.515625 40.671875 11.671875 48.328125 \nQ 17.828125 56 27.875 56 \nQ 33.9375 56 38.28125 53.609375 \nQ 42.625 51.21875 45.40625 46.390625 \nL 45.40625 54.6875 \nL 54.390625 54.6875 \nz\n\" id=\"DejaVuSans-103\"/>\n       <path d=\"M 54.890625 33.015625 \nL 54.890625 0 \nL 45.90625 0 \nL 45.90625 32.71875 \nQ 45.90625 40.484375 42.875 44.328125 \nQ 39.84375 48.1875 33.796875 48.1875 \nQ 26.515625 48.1875 22.3125 43.546875 \nQ 18.109375 38.921875 18.109375 30.90625 \nL 18.109375 0 \nL 9.078125 0 \nL 9.078125 75.984375 \nL 18.109375 75.984375 \nL 18.109375 46.1875 \nQ 21.34375 51.125 25.703125 53.5625 \nQ 30.078125 56 35.796875 56 \nQ 45.21875 56 50.046875 50.171875 \nQ 54.890625 44.34375 54.890625 33.015625 \nz\n\" id=\"DejaVuSans-104\"/>\n       <path d=\"M 18.3125 70.21875 \nL 18.3125 54.6875 \nL 36.8125 54.6875 \nL 36.8125 47.703125 \nL 18.3125 47.703125 \nL 18.3125 18.015625 \nQ 18.3125 11.328125 20.140625 9.421875 \nQ 21.96875 7.515625 27.59375 7.515625 \nL 36.8125 7.515625 \nL 36.8125 0 \nL 27.59375 0 \nQ 17.1875 0 13.234375 3.875 \nQ 9.28125 7.765625 9.28125 18.015625 \nL 9.28125 47.703125 \nL 2.6875 47.703125 \nL 2.6875 54.6875 \nL 9.28125 54.6875 \nL 9.28125 70.21875 \nz\n\" id=\"DejaVuSans-116\"/>\n      </defs>\n      <use xlink:href=\"#DejaVuSans-66\"/>\n      <use x=\"68.603516\" xlink:href=\"#DejaVuSans-114\"/>\n      <use x=\"109.716797\" xlink:href=\"#DejaVuSans-97\"/>\n      <use x=\"170.996094\" xlink:href=\"#DejaVuSans-105\"/>\n      <use x=\"198.779297\" xlink:href=\"#DejaVuSans-110\"/>\n      <use x=\"262.158203\" xlink:href=\"#DejaVuSans-32\"/>\n      <use x=\"293.945312\" xlink:href=\"#DejaVuSans-87\"/>\n      <use x=\"386.947266\" xlink:href=\"#DejaVuSans-101\"/>\n      <use x=\"448.470703\" xlink:href=\"#DejaVuSans-105\"/>\n      <use x=\"476.253906\" xlink:href=\"#DejaVuSans-103\"/>\n      <use x=\"539.730469\" xlink:href=\"#DejaVuSans-104\"/>\n      <use x=\"603.109375\" xlink:href=\"#DejaVuSans-116\"/>\n     </g>\n    </g>\n   </g>\n   <g id=\"matplotlib.axis_2\">\n    <g id=\"ytick_1\">\n     <g id=\"line2d_8\">\n      <defs>\n       <path d=\"M 0 0 \nL -3.5 0 \n\" id=\"m7011568b20\" style=\"stroke:#000000;stroke-width:0.8;\"/>\n      </defs>\n      <g>\n       <use style=\"stroke:#000000;stroke-width:0.8;\" x=\"53.328125\" xlink:href=\"#m7011568b20\" y=\"211.830768\"/>\n      </g>\n     </g>\n     <g id=\"text_9\">\n      <!-- 2750 -->\n      <g transform=\"translate(20.878125 215.629987)scale(0.1 -0.1)\">\n       <defs>\n        <path d=\"M 8.203125 72.90625 \nL 55.078125 72.90625 \nL 55.078125 68.703125 \nL 28.609375 0 \nL 18.3125 0 \nL 43.21875 64.59375 \nL 8.203125 64.59375 \nz\n\" id=\"DejaVuSans-55\"/>\n       </defs>\n       <use xlink:href=\"#DejaVuSans-50\"/>\n       <use x=\"63.623047\" xlink:href=\"#DejaVuSans-55\"/>\n       <use x=\"127.246094\" xlink:href=\"#DejaVuSans-53\"/>\n       <use x=\"190.869141\" xlink:href=\"#DejaVuSans-48\"/>\n      </g>\n     </g>\n    </g>\n    <g id=\"ytick_2\">\n     <g id=\"line2d_9\">\n      <g>\n       <use style=\"stroke:#000000;stroke-width:0.8;\" x=\"53.328125\" xlink:href=\"#m7011568b20\" y=\"187.450807\"/>\n      </g>\n     </g>\n     <g id=\"text_10\">\n      <!-- 3000 -->\n      <g transform=\"translate(20.878125 191.250026)scale(0.1 -0.1)\">\n       <use xlink:href=\"#DejaVuSans-51\"/>\n       <use x=\"63.623047\" xlink:href=\"#DejaVuSans-48\"/>\n       <use x=\"127.246094\" xlink:href=\"#DejaVuSans-48\"/>\n       <use x=\"190.869141\" xlink:href=\"#DejaVuSans-48\"/>\n      </g>\n     </g>\n    </g>\n    <g id=\"ytick_3\">\n     <g id=\"line2d_10\">\n      <g>\n       <use style=\"stroke:#000000;stroke-width:0.8;\" x=\"53.328125\" xlink:href=\"#m7011568b20\" y=\"163.070845\"/>\n      </g>\n     </g>\n     <g id=\"text_11\">\n      <!-- 3250 -->\n      <g transform=\"translate(20.878125 166.870064)scale(0.1 -0.1)\">\n       <use xlink:href=\"#DejaVuSans-51\"/>\n       <use x=\"63.623047\" xlink:href=\"#DejaVuSans-50\"/>\n       <use x=\"127.246094\" xlink:href=\"#DejaVuSans-53\"/>\n       <use x=\"190.869141\" xlink:href=\"#DejaVuSans-48\"/>\n      </g>\n     </g>\n    </g>\n    <g id=\"ytick_4\">\n     <g id=\"line2d_11\">\n      <g>\n       <use style=\"stroke:#000000;stroke-width:0.8;\" x=\"53.328125\" xlink:href=\"#m7011568b20\" y=\"138.690884\"/>\n      </g>\n     </g>\n     <g id=\"text_12\">\n      <!-- 3500 -->\n      <g transform=\"translate(20.878125 142.490103)scale(0.1 -0.1)\">\n       <use xlink:href=\"#DejaVuSans-51\"/>\n       <use x=\"63.623047\" xlink:href=\"#DejaVuSans-53\"/>\n       <use x=\"127.246094\" xlink:href=\"#DejaVuSans-48\"/>\n       <use x=\"190.869141\" xlink:href=\"#DejaVuSans-48\"/>\n      </g>\n     </g>\n    </g>\n    <g id=\"ytick_5\">\n     <g id=\"line2d_12\">\n      <g>\n       <use style=\"stroke:#000000;stroke-width:0.8;\" x=\"53.328125\" xlink:href=\"#m7011568b20\" y=\"114.310923\"/>\n      </g>\n     </g>\n     <g id=\"text_13\">\n      <!-- 3750 -->\n      <g transform=\"translate(20.878125 118.110141)scale(0.1 -0.1)\">\n       <use xlink:href=\"#DejaVuSans-51\"/>\n       <use x=\"63.623047\" xlink:href=\"#DejaVuSans-55\"/>\n       <use x=\"127.246094\" xlink:href=\"#DejaVuSans-53\"/>\n       <use x=\"190.869141\" xlink:href=\"#DejaVuSans-48\"/>\n      </g>\n     </g>\n    </g>\n    <g id=\"ytick_6\">\n     <g id=\"line2d_13\">\n      <g>\n       <use style=\"stroke:#000000;stroke-width:0.8;\" x=\"53.328125\" xlink:href=\"#m7011568b20\" y=\"89.930961\"/>\n      </g>\n     </g>\n     <g id=\"text_14\">\n      <!-- 4000 -->\n      <g transform=\"translate(20.878125 93.73018)scale(0.1 -0.1)\">\n       <use xlink:href=\"#DejaVuSans-52\"/>\n       <use x=\"63.623047\" xlink:href=\"#DejaVuSans-48\"/>\n       <use x=\"127.246094\" xlink:href=\"#DejaVuSans-48\"/>\n       <use x=\"190.869141\" xlink:href=\"#DejaVuSans-48\"/>\n      </g>\n     </g>\n    </g>\n    <g id=\"ytick_7\">\n     <g id=\"line2d_14\">\n      <g>\n       <use style=\"stroke:#000000;stroke-width:0.8;\" x=\"53.328125\" xlink:href=\"#m7011568b20\" y=\"65.551\"/>\n      </g>\n     </g>\n     <g id=\"text_15\">\n      <!-- 4250 -->\n      <g transform=\"translate(20.878125 69.350218)scale(0.1 -0.1)\">\n       <use xlink:href=\"#DejaVuSans-52\"/>\n       <use x=\"63.623047\" xlink:href=\"#DejaVuSans-50\"/>\n       <use x=\"127.246094\" xlink:href=\"#DejaVuSans-53\"/>\n       <use x=\"190.869141\" xlink:href=\"#DejaVuSans-48\"/>\n      </g>\n     </g>\n    </g>\n    <g id=\"ytick_8\">\n     <g id=\"line2d_15\">\n      <g>\n       <use style=\"stroke:#000000;stroke-width:0.8;\" x=\"53.328125\" xlink:href=\"#m7011568b20\" y=\"41.171038\"/>\n      </g>\n     </g>\n     <g id=\"text_16\">\n      <!-- 4500 -->\n      <g transform=\"translate(20.878125 44.970257)scale(0.1 -0.1)\">\n       <use xlink:href=\"#DejaVuSans-52\"/>\n       <use x=\"63.623047\" xlink:href=\"#DejaVuSans-53\"/>\n       <use x=\"127.246094\" xlink:href=\"#DejaVuSans-48\"/>\n       <use x=\"190.869141\" xlink:href=\"#DejaVuSans-48\"/>\n      </g>\n     </g>\n    </g>\n    <g id=\"ytick_9\">\n     <g id=\"line2d_16\">\n      <g>\n       <use style=\"stroke:#000000;stroke-width:0.8;\" x=\"53.328125\" xlink:href=\"#m7011568b20\" y=\"16.791077\"/>\n      </g>\n     </g>\n     <g id=\"text_17\">\n      <!-- 4750 -->\n      <g transform=\"translate(20.878125 20.590296)scale(0.1 -0.1)\">\n       <use xlink:href=\"#DejaVuSans-52\"/>\n       <use x=\"63.623047\" xlink:href=\"#DejaVuSans-55\"/>\n       <use x=\"127.246094\" xlink:href=\"#DejaVuSans-53\"/>\n       <use x=\"190.869141\" xlink:href=\"#DejaVuSans-48\"/>\n      </g>\n     </g>\n    </g>\n    <g id=\"text_18\">\n     <!-- Head Size -->\n     <g transform=\"translate(14.798438 140.848125)rotate(-90)scale(0.1 -0.1)\">\n      <defs>\n       <path d=\"M 9.8125 72.90625 \nL 19.671875 72.90625 \nL 19.671875 43.015625 \nL 55.515625 43.015625 \nL 55.515625 72.90625 \nL 65.375 72.90625 \nL 65.375 0 \nL 55.515625 0 \nL 55.515625 34.71875 \nL 19.671875 34.71875 \nL 19.671875 0 \nL 9.8125 0 \nz\n\" id=\"DejaVuSans-72\"/>\n       <path d=\"M 45.40625 46.390625 \nL 45.40625 75.984375 \nL 54.390625 75.984375 \nL 54.390625 0 \nL 45.40625 0 \nL 45.40625 8.203125 \nQ 42.578125 3.328125 38.25 0.953125 \nQ 33.9375 -1.421875 27.875 -1.421875 \nQ 17.96875 -1.421875 11.734375 6.484375 \nQ 5.515625 14.40625 5.515625 27.296875 \nQ 5.515625 40.1875 11.734375 48.09375 \nQ 17.96875 56 27.875 56 \nQ 33.9375 56 38.25 53.625 \nQ 42.578125 51.265625 45.40625 46.390625 \nz\nM 14.796875 27.296875 \nQ 14.796875 17.390625 18.875 11.75 \nQ 22.953125 6.109375 30.078125 6.109375 \nQ 37.203125 6.109375 41.296875 11.75 \nQ 45.40625 17.390625 45.40625 27.296875 \nQ 45.40625 37.203125 41.296875 42.84375 \nQ 37.203125 48.484375 30.078125 48.484375 \nQ 22.953125 48.484375 18.875 42.84375 \nQ 14.796875 37.203125 14.796875 27.296875 \nz\n\" id=\"DejaVuSans-100\"/>\n       <path d=\"M 53.515625 70.515625 \nL 53.515625 60.890625 \nQ 47.90625 63.578125 42.921875 64.890625 \nQ 37.9375 66.21875 33.296875 66.21875 \nQ 25.25 66.21875 20.875 63.09375 \nQ 16.5 59.96875 16.5 54.203125 \nQ 16.5 49.359375 19.40625 46.890625 \nQ 22.3125 44.4375 30.421875 42.921875 \nL 36.375 41.703125 \nQ 47.40625 39.59375 52.65625 34.296875 \nQ 57.90625 29 57.90625 20.125 \nQ 57.90625 9.515625 50.796875 4.046875 \nQ 43.703125 -1.421875 29.984375 -1.421875 \nQ 24.8125 -1.421875 18.96875 -0.25 \nQ 13.140625 0.921875 6.890625 3.21875 \nL 6.890625 13.375 \nQ 12.890625 10.015625 18.65625 8.296875 \nQ 24.421875 6.59375 29.984375 6.59375 \nQ 38.421875 6.59375 43.015625 9.90625 \nQ 47.609375 13.234375 47.609375 19.390625 \nQ 47.609375 24.75 44.3125 27.78125 \nQ 41.015625 30.8125 33.5 32.328125 \nL 27.484375 33.5 \nQ 16.453125 35.6875 11.515625 40.375 \nQ 6.59375 45.0625 6.59375 53.421875 \nQ 6.59375 63.09375 13.40625 68.65625 \nQ 20.21875 74.21875 32.171875 74.21875 \nQ 37.3125 74.21875 42.625 73.28125 \nQ 47.953125 72.359375 53.515625 70.515625 \nz\n\" id=\"DejaVuSans-83\"/>\n       <path d=\"M 5.515625 54.6875 \nL 48.1875 54.6875 \nL 48.1875 46.484375 \nL 14.40625 7.171875 \nL 48.1875 7.171875 \nL 48.1875 0 \nL 4.296875 0 \nL 4.296875 8.203125 \nL 38.09375 47.515625 \nL 5.515625 47.515625 \nz\n\" id=\"DejaVuSans-122\"/>\n      </defs>\n      <use xlink:href=\"#DejaVuSans-72\"/>\n      <use x=\"75.195312\" xlink:href=\"#DejaVuSans-101\"/>\n      <use x=\"136.71875\" xlink:href=\"#DejaVuSans-97\"/>\n      <use x=\"197.998047\" xlink:href=\"#DejaVuSans-100\"/>\n      <use x=\"261.474609\" xlink:href=\"#DejaVuSans-32\"/>\n      <use x=\"293.261719\" xlink:href=\"#DejaVuSans-83\"/>\n      <use x=\"356.738281\" xlink:href=\"#DejaVuSans-105\"/>\n      <use x=\"384.521484\" xlink:href=\"#DejaVuSans-122\"/>\n      <use x=\"437.011719\" xlink:href=\"#DejaVuSans-101\"/>\n     </g>\n    </g>\n   </g>\n   <g id=\"patch_3\">\n    <path d=\"M 53.328125 224.64 \nL 53.328125 7.2 \n\" style=\"fill:none;stroke:#000000;stroke-linecap:square;stroke-linejoin:miter;stroke-width:0.8;\"/>\n   </g>\n   <g id=\"patch_4\">\n    <path d=\"M 388.128125 224.64 \nL 388.128125 7.2 \n\" style=\"fill:none;stroke:#000000;stroke-linecap:square;stroke-linejoin:miter;stroke-width:0.8;\"/>\n   </g>\n   <g id=\"patch_5\">\n    <path d=\"M 53.328125 224.64 \nL 388.128125 224.64 \n\" style=\"fill:none;stroke:#000000;stroke-linecap:square;stroke-linejoin:miter;stroke-width:0.8;\"/>\n   </g>\n   <g id=\"patch_6\">\n    <path d=\"M 53.328125 7.2 \nL 388.128125 7.2 \n\" style=\"fill:none;stroke:#000000;stroke-linecap:square;stroke-linejoin:miter;stroke-width:0.8;\"/>\n   </g>\n  </g>\n </g>\n <defs>\n  <clipPath id=\"p968d542eca\">\n   <rect height=\"217.44\" width=\"334.8\" x=\"53.328125\" y=\"7.2\"/>\n  </clipPath>\n </defs>\n</svg>\n",
      "image/png": "[encoded data removed]"
     },
     "metadata": {
      "needs_background": "light"
     }
    }
   ],
   "metadata": {
    "nbgrader": {
     "grade": false,
     "grade_id": "cell-3d94ebba220cf0cb",
     "locked": false,
     "schema_version": 1,
     "solution": true
    }
   }
  },
  {
   "cell_type": "code",
   "execution_count": 6,
   "source": [
    "# Use the Sklearn `train_test_split()` function to split the data into training and testing data\n",
    "\n",
    "from sklearn.model_selection import train_test_split\n",
    "\n",
    "### BEGIN SOLUTION\n",
    "\n",
    "X_train, X_test, y_train, y_test = train_test_split(X, y, random_state=42)\n",
    "\n",
    "### END SOLUTION"
   ],
   "outputs": [],
   "metadata": {
    "nbgrader": {
     "grade": false,
     "grade_id": "cell-9042a62fdddc21ba",
     "locked": false,
     "schema_version": 1,
     "solution": true
    }
   }
  },
  {
   "cell_type": "code",
   "execution_count": 7,
   "source": [
    "# Create the model\n",
    "\n",
    "### BEGIN SOLUTION\n",
    "\n",
    "from sklearn.linear_model import LinearRegression\n",
    "\n",
    "model = LinearRegression()\n",
    "\n",
    "### END SOLUTION"
   ],
   "outputs": [],
   "metadata": {
    "nbgrader": {
     "grade": false,
     "grade_id": "cell-c28431477001b4ca",
     "locked": false,
     "schema_version": 1,
     "solution": true
    }
   }
  },
  {
   "cell_type": "code",
   "execution_count": 8,
   "source": [
    "# Fit the model to the training data. \n",
    "\n",
    "### BEGIN SOLUTION\n",
    "\n",
    "model.fit(X_train, y_train)\n",
    "\n",
    "### END SOLUTION"
   ],
   "outputs": [
    {
     "output_type": "execute_result",
     "data": {
      "text/plain": [
       "LinearRegression()"
      ]
     },
     "metadata": {},
     "execution_count": 8
    }
   ],
   "metadata": {
    "nbgrader": {
     "grade": false,
     "grade_id": "cell-cf45418a342b12fd",
     "locked": false,
     "schema_version": 1,
     "solution": true
    }
   }
  },
  {
   "cell_type": "code",
   "execution_count": 9,
   "source": [
    "# Calculate the mean_squared_error and the r-squared value\n",
    "# for the testing data\n",
    "\n",
    "from sklearn.metrics import mean_squared_error, r2_score\n",
    "\n",
    "### BEGIN SOLUTION\n",
    "\n",
    "# Use our model to make predictions\n",
    "predicted = model.predict(X_test)\n",
    "\n",
    "# Score the predictions with mse and r2\n",
    "mse = mean_squared_error(y_test, predicted)\n",
    "r2 = r2_score(y_test, predicted)\n",
    "\n",
    "print(f\"mean squared error (MSE): {mse}\")\n",
    "print(f\"R-squared (R2): {r2}\")\n",
    "\n",
    "### END SOLUTION"
   ],
   "outputs": [
    {
     "output_type": "stream",
     "name": "stdout",
     "text": [
      "mean squared error (MSE): 51228.19330570998\n",
      "R-squared (R2): 0.6568088729208812\n"
     ]
    }
   ],
   "metadata": {
    "nbgrader": {
     "grade": false,
     "grade_id": "cell-2012c0fff63f915a",
     "locked": false,
     "schema_version": 1,
     "solution": true
    }
   }
  },
  {
   "cell_type": "code",
   "execution_count": 10,
   "source": [
    "# Call the `score()` method on the model to show the R2 score\n",
    "\n",
    "### BEGIN SOLUTION\n",
    "model.score(X_test, y_test)\n",
    "### END SOLUTION"
   ],
   "outputs": [
    {
     "output_type": "execute_result",
     "data": {
      "text/plain": [
       "0.6568088729208812"
      ]
     },
     "metadata": {},
     "execution_count": 10
    }
   ],
   "metadata": {
    "nbgrader": {
     "grade": false,
     "grade_id": "cell-280db723dfdf1dc7",
     "locked": false,
     "schema_version": 1,
     "solution": true
    }
   }
  },
  {
   "cell_type": "code",
   "execution_count": null,
   "source": [],
   "outputs": [],
   "metadata": {}
  }
 ],
 "metadata": {
  "celltoolbar": "Create Assignment",
  "kernelspec": {
   "name": "python3",
   "display_name": "Python 3.8.8 64-bit ('base': conda)"
  },
  "language_info": {
   "codemirror_mode": {
    "name": "ipython",
    "version": 3
   },
   "file_extension": ".py",
   "mimetype": "text/x-python",
   "name": "python",
   "nbconvert_exporter": "python",
   "pygments_lexer": "ipython3",
   "version": "3.8.8"
  },
  "varInspector": {
   "cols": {
    "lenName": 16,
    "lenType": 16,
    "lenVar": 40
   },
   "kernels_config": {
    "python": {
     "delete_cmd_postfix": "",
     "delete_cmd_prefix": "del ",
     "library": "var_list.py",
     "varRefreshCmd": "print(var_dic_list())"
    },
    "r": {
     "delete_cmd_postfix": ") ",
     "delete_cmd_prefix": "rm(",
     "library": "var_list.r",
     "varRefreshCmd": "cat(var_dic_list()) "
    }
   },
   "types_to_exclude": [
    "module",
    "function",
    "builtin_function_or_method",
    "instance",
    "_Feature"
   ],
   "window_display": false
  },
  "interpreter": {
   "hash": "319c24ade14b7873a3f936c1569cf8c1853592b8350107cb8f60c9b2a2771b37"
  }
 },
 "nbformat": 4,
 "nbformat_minor": 2
}